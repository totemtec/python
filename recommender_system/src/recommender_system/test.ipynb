{
 "cells": [
  {
   "cell_type": "code",
   "execution_count": null,
   "metadata": {},
   "outputs": [],
   "source": [
    "import pandas as pd\n",
    "\n",
    "# download from https://www.kaggle.com/datasets/rounakbanik/the-movies-dataset/data\n",
    "\n",
    "movies = pd.read_csv('dataset/movies_metadata.csv', low_memory=False)\n",
    "movies.shape"
   ]
  },
  {
   "cell_type": "code",
   "execution_count": null,
   "metadata": {},
   "outputs": [],
   "source": [
    "movies.columns"
   ]
  },
  {
   "cell_type": "code",
   "execution_count": null,
   "metadata": {},
   "outputs": [],
   "source": [
    "from math import isnan\n",
    "from pprint import pprint\n",
    "\n",
    "trimmed_movies = movies[[\"title\", \"overview\", \"release_date\", \"genres\"]]\n",
    "trimmed_movies.head(4)\n",
    "\n",
    "unclean_movie_dict = trimmed_movies.to_dict('records')\n",
    "print('{} movies'.format(len(unclean_movie_dict)))\n",
    "\n",
    "movies_dict = []\n",
    "\n",
    "for movie in unclean_movie_dict:\n",
    "    if movie[\"overview\"] == movie[\"overview\"] and movie[\"release_date\"] == movie[\"release_date\"] and movie[\"genres\"] == movie[\"genres\"]:\n",
    "        movies_dict.append(movie)\n",
    "\n",
    "print('{} movies'.format(len(movies_dict)))"
   ]
  },
  {
   "cell_type": "code",
   "execution_count": null,
   "metadata": {},
   "outputs": [],
   "source": [
    "from pymilvus import *\n",
    "\n",
    "milvus_uri = \"http://192.168.1.106:19530\"\n",
    "\n",
    "connections.connect(uri=milvus_uri)\n",
    "\n",
    "print(\"Connected!\")"
   ]
  },
  {
   "cell_type": "code",
   "execution_count": null,
   "metadata": {},
   "outputs": [],
   "source": [
    "from Milvus import FieldSchema, DataType, CollectionSchema, utility, Collection\n",
    "\n",
    "COLLECTION_NAME = 'film_vectors'\n",
    "PARTITION_NAME = 'movie'\n",
    "\n",
    "id = FieldSchema(name='title', dtype=DataType.VARCHAR, max_length=500, is_primary=True)\n",
    "field = FieldSchema(name='embedding', dtype=DataType.FLOAT_VECTOR, dim=384)\n",
    "\n",
    "\n",
    "schema = CollectionSchema(field=[id, field], description=\"movie recommender: film vectors\", enable_dynamic_field=True)\n",
    "\n",
    "if utility.has_collection(COLLECTION_NAME):\n",
    "    collection = Collection(COLLECTION_NAME)\n",
    "    collection.drop()\n",
    "\n",
    "collection = Collection(COLLECTION_NAME, schema)\n",
    "print(\"Collection created.\")\n",
    "\n",
    "index_params = {\n",
    "    \"index_type\": \"IVF_FLAT\",\n",
    "    \"metric_type\": \"L2\",\n",
    "    \"params\": {\"nlist\":128}\n",
    "}\n",
    "\n",
    "collection.create_index(field_name=\"embedding\", index_params=index_params)\n",
    "collection.load()\n",
    "\n",
    "print(\"Collection indexed!\")"
   ]
  },
  {
   "cell_type": "code",
   "execution_count": 1,
   "metadata": {},
   "outputs": [],
   "source": [
    "from sentence_transformers import SentenceTransformer\n",
    "import ast\n",
    "\n",
    "print('Done')\n"
   ]
  }
 ],
 "metadata": {
  "kernelspec": {
   "display_name": "Python 3",
   "language": "python",
   "name": "python3"
  },
  "language_info": {
   "codemirror_mode": {
    "name": "ipython",
    "version": 3
   },
   "file_extension": ".py",
   "mimetype": "text/x-python",
   "name": "python",
   "nbconvert_exporter": "python",
   "pygments_lexer": "ipython3",
   "version": "3.12.2"
  }
 },
 "nbformat": 4,
 "nbformat_minor": 2
}
