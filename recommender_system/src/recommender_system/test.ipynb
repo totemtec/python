{
 "cells": [
  {
   "cell_type": "code",
   "execution_count": 1,
   "metadata": {},
   "outputs": [
    {
     "data": {
      "text/plain": [
       "(45466, 24)"
      ]
     },
     "execution_count": 1,
     "metadata": {},
     "output_type": "execute_result"
    }
   ],
   "source": [
    "import pandas as pd\n",
    "\n",
    "# download from https://www.kaggle.com/datasets/rounakbanik/the-movies-dataset/data\n",
    "\n",
    "movies = pd.read_csv('dataset/movies_metadata.csv', low_memory=False)\n",
    "movies.shape"
   ]
  },
  {
   "cell_type": "code",
   "execution_count": 2,
   "metadata": {},
   "outputs": [
    {
     "data": {
      "text/plain": [
       "Index(['adult', 'belongs_to_collection', 'budget', 'genres', 'homepage', 'id',\n",
       "       'imdb_id', 'original_language', 'original_title', 'overview',\n",
       "       'popularity', 'poster_path', 'production_companies',\n",
       "       'production_countries', 'release_date', 'revenue', 'runtime',\n",
       "       'spoken_languages', 'status', 'tagline', 'title', 'video',\n",
       "       'vote_average', 'vote_count'],\n",
       "      dtype='object')"
      ]
     },
     "execution_count": 2,
     "metadata": {},
     "output_type": "execute_result"
    }
   ],
   "source": [
    "movies.columns"
   ]
  },
  {
   "cell_type": "code",
   "execution_count": 3,
   "metadata": {},
   "outputs": [
    {
     "name": "stdout",
     "output_type": "stream",
     "text": [
      "45466 movies\n",
      "44438 movies\n"
     ]
    }
   ],
   "source": [
    "from math import isnan\n",
    "from pprint import pprint\n",
    "\n",
    "trimmed_movies = movies[[\"title\", \"overview\", \"release_date\", \"genres\"]]\n",
    "trimmed_movies.head(4)\n",
    "\n",
    "unclean_movie_dict = trimmed_movies.to_dict('records')\n",
    "print('{} movies'.format(len(unclean_movie_dict)))\n",
    "\n",
    "movies_dict = []\n",
    "\n",
    "for movie in unclean_movie_dict:\n",
    "    if movie[\"overview\"] == movie[\"overview\"] and movie[\"release_date\"] == movie[\"release_date\"] and movie[\"genres\"] == movie[\"genres\"]:\n",
    "        movies_dict.append(movie)\n",
    "\n",
    "print('{} movies'.format(len(movies_dict)))"
   ]
  },
  {
   "cell_type": "code",
   "execution_count": 5,
   "metadata": {},
   "outputs": [
    {
     "name": "stdout",
     "output_type": "stream",
     "text": [
      "Connected!\n"
     ]
    }
   ],
   "source": [
    "from pymilvus import *\n",
    "\n",
    "milvus_uri = \"http://192.168.1.106:19530\"\n",
    "\n",
    "connections.connect(uri=milvus_uri)\n",
    "\n",
    "print(\"Connected!\")"
   ]
  },
  {
   "cell_type": "code",
   "execution_count": null,
   "metadata": {},
   "outputs": [],
   "source": [
    "COLLECTION_NAME = 'film_vectors'\n",
    "PARTITION_NAME = 'movie'\n",
    "\n"
   ]
  }
 ],
 "metadata": {
  "kernelspec": {
   "display_name": "Python 3",
   "language": "python",
   "name": "python3"
  },
  "language_info": {
   "codemirror_mode": {
    "name": "ipython",
    "version": 3
   },
   "file_extension": ".py",
   "mimetype": "text/x-python",
   "name": "python",
   "nbconvert_exporter": "python",
   "pygments_lexer": "ipython3",
   "version": "3.11.6"
  }
 },
 "nbformat": 4,
 "nbformat_minor": 2
}
