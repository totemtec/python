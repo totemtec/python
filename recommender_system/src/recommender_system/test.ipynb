{
 "cells": [
  {
   "cell_type": "code",
   "execution_count": null,
   "metadata": {},
   "outputs": [],
   "source": [
    "import pandas as pd\n",
    "\n",
    "# download from https://www.kaggle.com/datasets/rounakbanik/the-movies-dataset/data\n",
    "\n",
    "movies = pd.read_csv('dataset/movies_metadata.csv', low_memory=False)\n",
    "movies.shape"
   ]
  },
  {
   "cell_type": "code",
   "execution_count": null,
   "metadata": {},
   "outputs": [],
   "source": [
    "movies.columns"
   ]
  },
  {
   "cell_type": "code",
   "execution_count": null,
   "metadata": {},
   "outputs": [],
   "source": [
    "from math import isnan\n",
    "from pprint import pprint\n",
    "\n",
    "trimmed_movies = movies[[\"title\", \"overview\", \"release_date\", \"genres\"]]\n",
    "trimmed_movies.head(4)\n",
    "\n",
    "unclean_movie_dict = trimmed_movies.to_dict('records')\n",
    "print('{} movies'.format(len(unclean_movie_dict)))\n",
    "\n",
    "movies_dict = []\n",
    "\n",
    "for movie in unclean_movie_dict:\n",
    "    if movie[\"overview\"] == movie[\"overview\"] and movie[\"release_date\"] == movie[\"release_date\"] and movie[\"genres\"] == movie[\"genres\"]:\n",
    "        movies_dict.append(movie)\n",
    "\n",
    "print('{} movies'.format(len(movies_dict)))"
   ]
  },
  {
   "cell_type": "code",
   "execution_count": null,
   "metadata": {},
   "outputs": [],
   "source": [
    "from pymilvus import *\n",
    "\n",
    "milvus_uri = \"http://192.168.1.106:19530\"\n",
    "\n",
    "connections.connect(uri=milvus_uri)\n",
    "\n",
    "print(\"Connected!\")"
   ]
  },
  {
   "cell_type": "code",
   "execution_count": null,
   "metadata": {},
   "outputs": [],
   "source": [
    "from pymilvus import FieldSchema, DataType, CollectionSchema, utility, Collection\n",
    "\n",
    "COLLECTION_NAME = 'film_vectors'\n",
    "PARTITION_NAME = 'movie'\n",
    "\n",
    "id = FieldSchema(name='title', dtype=DataType.VARCHAR, max_length=500, is_primary=True)\n",
    "field = FieldSchema(name='embedding', dtype=DataType.FLOAT_VECTOR, dim=384)\n",
    "\n",
    "\n",
    "schema = CollectionSchema(fields=[id, field], description=\"movie recommender: film vectors\", enable_dynamic_field=True)\n",
    "\n",
    "if utility.has_collection(COLLECTION_NAME):\n",
    "    collection = Collection(COLLECTION_NAME)\n",
    "    collection.drop()\n",
    "\n",
    "collection = Collection(COLLECTION_NAME, schema)\n",
    "print(\"Collection created.\")\n",
    "\n",
    "index_params = {\n",
    "    \"index_type\": \"IVF_FLAT\",\n",
    "    \"metric_type\": \"L2\",\n",
    "    \"params\": {\"nlist\":128}\n",
    "}\n",
    "\n",
    "collection.create_index(field_name=\"embedding\", index_params=index_params)\n",
    "collection.load()\n",
    "\n",
    "collection.flush()\n",
    "\n",
    "print(\"Collection indexed!\")"
   ]
  },
  {
   "cell_type": "code",
   "execution_count": null,
   "metadata": {},
   "outputs": [],
   "source": [
    "from sentence_transformers import SentenceTransformer\n",
    "import ast\n",
    "\n",
    "def build_genres(data):\n",
    "    genres = data['genres']\n",
    "    genre_list = \"\"\n",
    "    entries= ast.literal_eval(genres)\n",
    "    genres = \"\"\n",
    "    for entry in entries:\n",
    "        genre_list = genre_list + entry[\"name\"] + \", \"\n",
    "    genres += genre_list\n",
    "    genres = \"\".join(genres.rsplit(\",\", 1))\n",
    "    return genres\n",
    "\n",
    "transformer = SentenceTransformer('all-MiniLM-L6-v2')\n",
    "\n",
    "def embed_movie(data):\n",
    "    embed = \"{} Released on {}. Genres are {}.\".format(data[\"overview\"], data[\"release_date\"], build_genres(data))\n",
    "    embeddings = transformer.encode(embed)\n",
    "    return embeddings"
   ]
  },
  {
   "cell_type": "code",
   "execution_count": null,
   "metadata": {},
   "outputs": [],
   "source": [
    "j = 0\n",
    "batch = []\n",
    "\n",
    "for movie_dict in movies_dict:\n",
    "    if pd.isnull(movie_dict['title']):\n",
    "        continue\n",
    "\n",
    "    try:\n",
    "        movie_dict[\"embedding\"] = embed_movie(movie_dict)\n",
    "        batch.append(movie_dict)\n",
    "        j += 1\n",
    "        if j % 50 == 0:\n",
    "            print(\"Embedded {} records\".format(j))\n",
    "            collection.insert(batch)\n",
    "            print(\"Batch insert completed\")\n",
    "            batch = []\n",
    "    except Exception as e:\n",
    "        print(\"Error inserting record {}, {}\".format(e))\n",
    "        pprint(batch)\n",
    "        break\n",
    "\n",
    "if len(batch) > 0:\n",
    "    collection.insert(batch)\n",
    "\n",
    "\n",
    "print(\"Final batch completed\")\n",
    "print(\"Finished with {} embeddings\".format(j))"
   ]
  },
  {
   "cell_type": "code",
   "execution_count": null,
   "metadata": {},
   "outputs": [],
   "source": [
    "collection.load()\n",
    "\n",
    "topK = 4\n",
    "SEARCH_PARAM = {\n",
    "    \"metric_type\":\"L2\",\n",
    "    \"params\":{\"nprobe\":20}\n",
    "}\n",
    "\n",
    "def embed_search(search_string):\n",
    "    search_embeddings = transformer.encode(search_string)\n",
    "    return search_embeddings\n",
    "\n",
    "def search_for_movies(search_string):\n",
    "    user_vector = embed_search(search_string)\n",
    "    return collection.search([user_vector], \"embedding\", param=SEARCH_PARAM, limit=topK, expr=None, output_fields=['title', 'overview'])"
   ]
  },
  {
   "cell_type": "code",
   "execution_count": null,
   "metadata": {},
   "outputs": [],
   "source": [
    "from pprint import pprint\n",
    "\n",
    "\n",
    "search_string = \"A comedy from the 1990s set in a hospital. The main characters are in their 20s and are trying to stop a vampire.\"\n",
    "results = search_for_movies(search_string)\n",
    "\n",
    "for hits in results:\n",
    "    for hit in hits:\n",
    "        print(hit.entity.get('title'))\n",
    "        print(hit.entity.get('overview'))\n",
    "        print(\"-------------------------------\")"
   ]
  }
 ],
 "metadata": {
  "kernelspec": {
   "display_name": "Python 3",
   "language": "python",
   "name": "python3"
  },
  "language_info": {
   "codemirror_mode": {
    "name": "ipython",
    "version": 3
   },
   "file_extension": ".py",
   "mimetype": "text/x-python",
   "name": "python",
   "nbconvert_exporter": "python",
   "pygments_lexer": "ipython3",
   "version": "3.12.2"
  }
 },
 "nbformat": 4,
 "nbformat_minor": 2
}
