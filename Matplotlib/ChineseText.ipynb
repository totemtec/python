{
 "cells": [
  {
   "cell_type": "markdown",
   "metadata": {},
   "source": [
    "### Matplotlib 中文显示问题\n",
    "\n",
    "##### 获取系统字体库"
   ]
  },
  {
   "cell_type": "code",
   "execution_count": null,
   "metadata": {},
   "outputs": [],
   "source": [
    "%matplotlib inline\n",
    "from matplotlib import pyplot as plt\n",
    "import matplotlib\n",
    "a=sorted([f.name for f in matplotlib.font_manager.fontManager.ttflist])\n",
    "\n",
    "for i in a:\n",
    "    print(i)"
   ]
  },
  {
   "cell_type": "markdown",
   "metadata": {},
   "source": [
    "##### 设置所有文字\n",
    "\n",
    "`rcParams` 是一个全局配置字典，包含了 Matplotlib 的所有配置选项"
   ]
  },
  {
   "cell_type": "code",
   "execution_count": null,
   "metadata": {},
   "outputs": [],
   "source": [
    "%matplotlib inline\n",
    "\n",
    "import matplotlib.pyplot as plt\n",
    "\n",
    "plt.rcParams['font.family'] = 'Microsoft YaHei'\n",
    "\n",
    "x = [1, 2, 3, 4, 5]\n",
    "y = [2, 4, 6, 8, 10]\n",
    "\n",
    "plt.plot(x, y)\n",
    "\n",
    "plt.title('中文示例图')\n",
    "plt.xlabel('X 轴')\n",
    "plt.ylabel('Y 轴')"
   ]
  },
  {
   "cell_type": "markdown",
   "metadata": {},
   "source": [
    "FontProperties 设置某个文本的字体，可以定制更多字体属性"
   ]
  },
  {
   "cell_type": "code",
   "execution_count": null,
   "metadata": {},
   "outputs": [],
   "source": [
    "import matplotlib.pyplot as plt\n",
    "from matplotlib.font_manager import FontProperties\n",
    "\n",
    "font = FontProperties(fname=r'C:\\Windows\\Fonts\\simhei.ttf', size=14)  # 创建一个字体对象\n",
    "\n",
    "tite_font = FontProperties(family=r'Microsoft YaHei', size=32)\n",
    "\n",
    "xlabel_font = FontProperties(family=r'Microsoft YaHei', weight='bold')\n",
    "\n",
    "plt.plot([1, 2, 3], [4, 5, 6])\n",
    "plt.title('中文标题', fontproperties=tite_font)  # 应用字体对象到标题\n",
    "plt.xlabel('横轴', fontproperties=xlabel_font).set_color('red')  # 应用字体对象到横轴标签\n",
    "plt.ylabel('纵轴', fontproperties=font)  # 应用字体对象到纵轴标签"
   ]
  }
 ],
 "metadata": {
  "kernelspec": {
   "display_name": "Python 3",
   "language": "python",
   "name": "python3"
  },
  "language_info": {
   "codemirror_mode": {
    "name": "ipython",
    "version": 3
   },
   "file_extension": ".py",
   "mimetype": "text/x-python",
   "name": "python",
   "nbconvert_exporter": "python",
   "pygments_lexer": "ipython3",
   "version": "3.10.10"
  }
 },
 "nbformat": 4,
 "nbformat_minor": 2
}
